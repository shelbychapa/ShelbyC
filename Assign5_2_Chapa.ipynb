{
  "nbformat": 4,
  "nbformat_minor": 0,
  "metadata": {
    "colab": {
      "provenance": []
    },
    "kernelspec": {
      "name": "python3",
      "display_name": "Python 3"
    },
    "language_info": {
      "name": "python"
    }
  },
  "cells": [
    {
      "cell_type": "code",
      "execution_count": null,
      "metadata": {
        "id": "LX07aAMpeRPT"
      },
      "outputs": [],
      "source": [
        "import tensorflow as tf\n",
        "from tensorflow import keras\n",
        "import numpy as np\n",
        "import pandas as pd\n",
        "import matplotlib.pyplot as plt\n"
      ]
    },
    {
      "cell_type": "code",
      "source": [
        "df=pd.read_csv(\"/content/mobile.csv\")"
      ],
      "metadata": {
        "id": "o94FNf55fayZ"
      },
      "execution_count": null,
      "outputs": []
    },
    {
      "cell_type": "code",
      "source": [
        "#from google.colab import drive\n",
        "#drive.mount('/content/drive')"
      ],
      "metadata": {
        "id": "fF-wGOXfisa4"
      },
      "execution_count": null,
      "outputs": []
    },
    {
      "cell_type": "code",
      "source": [
        "df.head\n"
      ],
      "metadata": {
        "colab": {
          "base_uri": "https://localhost:8080/"
        },
        "id": "3kdWGUoCjE1c",
        "outputId": "0830e295-c237-4368-97f8-3a1da1066004"
      },
      "execution_count": null,
      "outputs": [
        {
          "output_type": "execute_result",
          "data": {
            "text/plain": [
              "<bound method NDFrame.head of       battery_power  bluetooth  clock_speed  dual_sim  frontcamerapixel  4G  \\\n",
              "0               842          0          2.2         0                 1   0   \n",
              "1              1021          1          0.5         1                 0   1   \n",
              "2               563          1          0.5         1                 2   1   \n",
              "3               615          1          2.5         0                 0   0   \n",
              "4              1821          1          1.2         0                13   1   \n",
              "...             ...        ...          ...       ...               ...  ..   \n",
              "1995            794          1          0.5         1                 0   1   \n",
              "1996           1965          1          2.6         1                 0   0   \n",
              "1997           1911          0          0.9         1                 1   1   \n",
              "1998           1512          0          0.9         0                 4   1   \n",
              "1999            510          1          2.0         1                 5   1   \n",
              "\n",
              "      memorysize  weight  cores  primarycamerapixel  pixelresolutionheight  \\\n",
              "0              7     188      2                   2                     20   \n",
              "1             53     136      3                   6                    905   \n",
              "2             41     145      5                   6                   1263   \n",
              "3             10     131      6                   9                   1216   \n",
              "4             44     141      2                  14                   1208   \n",
              "...          ...     ...    ...                 ...                    ...   \n",
              "1995           2     106      6                  14                   1222   \n",
              "1996          39     187      4                   3                    915   \n",
              "1997          36     108      8                   3                    868   \n",
              "1998          46     145      5                   5                    336   \n",
              "1999          45     168      6                  16                    483   \n",
              "\n",
              "      pixelresolutionwidth   ram  screenheight  screenwidth  talk_time  3G  \\\n",
              "0                      756  2549             9            7         19   0   \n",
              "1                     1988  2631            17            3          7   1   \n",
              "2                     1716  2603            11            2          9   1   \n",
              "3                     1786  2769            16            8         11   1   \n",
              "4                     1212  1411             8            2         15   1   \n",
              "...                    ...   ...           ...          ...        ...  ..   \n",
              "1995                  1890   668            13            4         19   1   \n",
              "1996                  1965  2032            11           10         16   1   \n",
              "1997                  1632  3057             9            1          5   1   \n",
              "1998                   670   869            18           10         19   1   \n",
              "1999                   754  3919            19            4          2   1   \n",
              "\n",
              "      touch_screen  wifi  price_range  \n",
              "0                0     1            1  \n",
              "1                1     0            2  \n",
              "2                1     0            2  \n",
              "3                0     0            2  \n",
              "4                1     0            1  \n",
              "...            ...   ...          ...  \n",
              "1995             1     0            0  \n",
              "1996             1     1            2  \n",
              "1997             1     0            3  \n",
              "1998             1     1            0  \n",
              "1999             1     1            3  \n",
              "\n",
              "[2000 rows x 20 columns]>"
            ]
          },
          "metadata": {},
          "execution_count": 6
        }
      ]
    },
    {
      "cell_type": "code",
      "source": [
        "x=df.drop(\"price_range\",axis=1)\n",
        "y=df[\"price_range\"]"
      ],
      "metadata": {
        "id": "a7ghMA_wjr3c"
      },
      "execution_count": null,
      "outputs": []
    },
    {
      "cell_type": "code",
      "source": [
        "from sklearn.model_selection import train_test_split"
      ],
      "metadata": {
        "id": "4qJPrfK7ABkG"
      },
      "execution_count": null,
      "outputs": []
    },
    {
      "cell_type": "code",
      "source": [
        "X_train,X_test,y_train,y_test=train_test_split(x,y,test_size=0.3)"
      ],
      "metadata": {
        "id": "2aQKkZIkAF4L"
      },
      "execution_count": null,
      "outputs": []
    },
    {
      "cell_type": "code",
      "source": [],
      "metadata": {
        "id": "jXp3Bt6ULWju"
      },
      "execution_count": null,
      "outputs": []
    },
    {
      "cell_type": "code",
      "source": [
        "X_train.shape"
      ],
      "metadata": {
        "colab": {
          "base_uri": "https://localhost:8080/"
        },
        "id": "jZGEHM7PAbOs",
        "outputId": "9c1219ef-9204-47e1-e994-aaa73603de6f"
      },
      "execution_count": null,
      "outputs": [
        {
          "output_type": "execute_result",
          "data": {
            "text/plain": [
              "(1400, 19)"
            ]
          },
          "metadata": {},
          "execution_count": 10
        }
      ]
    },
    {
      "cell_type": "code",
      "source": [
        "X_test.shape"
      ],
      "metadata": {
        "colab": {
          "base_uri": "https://localhost:8080/"
        },
        "id": "uP3WP4HRAy2y",
        "outputId": "099ea5d3-5aa4-4f00-e375-49cac887e804"
      },
      "execution_count": null,
      "outputs": [
        {
          "output_type": "execute_result",
          "data": {
            "text/plain": [
              "(600, 19)"
            ]
          },
          "metadata": {},
          "execution_count": 46
        }
      ]
    },
    {
      "cell_type": "markdown",
      "source": [
        "\n",
        "\n",
        "*   List item\n",
        "*   List item\n",
        "\n"
      ],
      "metadata": {
        "id": "97GsDNq2iecn"
      }
    },
    {
      "cell_type": "code",
      "source": [
        "from sklearn.preprocessing import StandardScaler"
      ],
      "metadata": {
        "id": "uAOX_3K0BCQb"
      },
      "execution_count": null,
      "outputs": []
    },
    {
      "cell_type": "code",
      "source": [
        "sc=StandardScaler()"
      ],
      "metadata": {
        "id": "ggJM7lgmL_oT"
      },
      "execution_count": null,
      "outputs": []
    },
    {
      "cell_type": "code",
      "source": [
        "X_train = sc.fit_transform(X_train)\n",
        "X_test = sc.transform(X_test)"
      ],
      "metadata": {
        "id": "Q9dBc7XEMEUg"
      },
      "execution_count": null,
      "outputs": []
    },
    {
      "cell_type": "markdown",
      "source": [],
      "metadata": {
        "id": "eM70erEoid26"
      }
    },
    {
      "cell_type": "code",
      "source": [
        "model=keras.Sequential()\n",
        "model.add(keras.layers.Dense(64,activation=\"relu\",\n",
        "                               input_shape=(X_train.shape[1],))) #input layer\n",
        "model.add(keras.layers.Dense(32,activation=\"relu\")) #second\n",
        "model.add(keras.layers.Dense(1,activation=\"softmax\")) #output"
      ],
      "metadata": {
        "id": "gcjTuBP2SBtO"
      },
      "execution_count": null,
      "outputs": []
    },
    {
      "cell_type": "code",
      "source": [
        "model.summary()"
      ],
      "metadata": {
        "colab": {
          "base_uri": "https://localhost:8080/"
        },
        "id": "aJ1rwo_XNOR1",
        "outputId": "be8fb60f-0fa7-4101-90d6-2396d754f7d5"
      },
      "execution_count": null,
      "outputs": [
        {
          "output_type": "stream",
          "name": "stdout",
          "text": [
            "Model: \"sequential_6\"\n",
            "_________________________________________________________________\n",
            " Layer (type)                Output Shape              Param #   \n",
            "=================================================================\n",
            " dense_16 (Dense)            (None, 64)                1280      \n",
            "                                                                 \n",
            " dense_17 (Dense)            (None, 32)                2080      \n",
            "                                                                 \n",
            " dense_18 (Dense)            (None, 1)                 33        \n",
            "                                                                 \n",
            "=================================================================\n",
            "Total params: 3,393\n",
            "Trainable params: 3,393\n",
            "Non-trainable params: 0\n",
            "_________________________________________________________________\n"
          ]
        }
      ]
    },
    {
      "cell_type": "code",
      "source": [
        "#Category model not working\n",
        "#model.compile(optimizer=\"adam\",loss=\"sparse_categorical_crossentropy\",metrics=\"accuracy\")\n",
        "#model.fit(X_train,y_train,epochs=5)\n",
        "#model.summary()\n",
        "\n",
        "###working continious model\n",
        "from sklearn import model_selection\n",
        "model.compile(optimizer=\"adam\",loss=\"mean_squared_error\",metrics=\"mse\")\n",
        "#learning\n",
        "history=model.fit(X_train,y_train,epochs=200)\n",
        "model.summary()\n"
      ],
      "metadata": {
        "colab": {
          "base_uri": "https://localhost:8080/"
        },
        "id": "geSNCOF3bgwL",
        "outputId": "f07f9c92-2fa1-431e-8532-052fd9979854"
      },
      "execution_count": null,
      "outputs": [
        {
          "output_type": "stream",
          "name": "stdout",
          "text": [
            "Epoch 1/200\n",
            "44/44 [==============================] - 1s 2ms/step - loss: 1.4721 - mse: 1.4721\n",
            "Epoch 2/200\n",
            "44/44 [==============================] - 0s 2ms/step - loss: 1.4721 - mse: 1.4721\n",
            "Epoch 3/200\n",
            "44/44 [==============================] - 0s 2ms/step - loss: 1.4721 - mse: 1.4721\n",
            "Epoch 4/200\n",
            "44/44 [==============================] - 0s 2ms/step - loss: 1.4721 - mse: 1.4721\n",
            "Epoch 5/200\n",
            "44/44 [==============================] - 0s 2ms/step - loss: 1.4721 - mse: 1.4721\n",
            "Epoch 6/200\n",
            "44/44 [==============================] - 0s 3ms/step - loss: 1.4721 - mse: 1.4721\n",
            "Epoch 7/200\n",
            "44/44 [==============================] - 0s 2ms/step - loss: 1.4721 - mse: 1.4721\n",
            "Epoch 8/200\n",
            "44/44 [==============================] - 0s 2ms/step - loss: 1.4721 - mse: 1.4721\n",
            "Epoch 9/200\n",
            "44/44 [==============================] - 0s 2ms/step - loss: 1.4721 - mse: 1.4721\n",
            "Epoch 10/200\n",
            "44/44 [==============================] - 0s 2ms/step - loss: 1.4721 - mse: 1.4721\n",
            "Epoch 11/200\n",
            "44/44 [==============================] - 0s 2ms/step - loss: 1.4721 - mse: 1.4721\n",
            "Epoch 12/200\n",
            "44/44 [==============================] - 0s 2ms/step - loss: 1.4721 - mse: 1.4721\n",
            "Epoch 13/200\n",
            "44/44 [==============================] - 0s 2ms/step - loss: 1.4721 - mse: 1.4721\n",
            "Epoch 14/200\n",
            "44/44 [==============================] - 0s 2ms/step - loss: 1.4721 - mse: 1.4721\n",
            "Epoch 15/200\n",
            "44/44 [==============================] - 0s 2ms/step - loss: 1.4721 - mse: 1.4721\n",
            "Epoch 16/200\n",
            "44/44 [==============================] - 0s 2ms/step - loss: 1.4721 - mse: 1.4721\n",
            "Epoch 17/200\n",
            "44/44 [==============================] - 0s 2ms/step - loss: 1.4721 - mse: 1.4721\n",
            "Epoch 18/200\n",
            "44/44 [==============================] - 0s 2ms/step - loss: 1.4721 - mse: 1.4721\n",
            "Epoch 19/200\n",
            "44/44 [==============================] - 0s 2ms/step - loss: 1.4721 - mse: 1.4721\n",
            "Epoch 20/200\n",
            "44/44 [==============================] - 0s 2ms/step - loss: 1.4721 - mse: 1.4721\n",
            "Epoch 21/200\n",
            "44/44 [==============================] - 0s 2ms/step - loss: 1.4721 - mse: 1.4721\n",
            "Epoch 22/200\n",
            "44/44 [==============================] - 0s 2ms/step - loss: 1.4721 - mse: 1.4721\n",
            "Epoch 23/200\n",
            "44/44 [==============================] - 0s 2ms/step - loss: 1.4721 - mse: 1.4721\n",
            "Epoch 24/200\n",
            "44/44 [==============================] - 0s 2ms/step - loss: 1.4721 - mse: 1.4721\n",
            "Epoch 25/200\n",
            "44/44 [==============================] - 0s 2ms/step - loss: 1.4721 - mse: 1.4721\n",
            "Epoch 26/200\n",
            "44/44 [==============================] - 0s 2ms/step - loss: 1.4721 - mse: 1.4721\n",
            "Epoch 27/200\n",
            "44/44 [==============================] - 0s 2ms/step - loss: 1.4721 - mse: 1.4721\n",
            "Epoch 28/200\n",
            "44/44 [==============================] - 0s 2ms/step - loss: 1.4721 - mse: 1.4721\n",
            "Epoch 29/200\n",
            "44/44 [==============================] - 0s 2ms/step - loss: 1.4721 - mse: 1.4721\n",
            "Epoch 30/200\n",
            "44/44 [==============================] - 0s 2ms/step - loss: 1.4721 - mse: 1.4721\n",
            "Epoch 31/200\n",
            "44/44 [==============================] - 0s 2ms/step - loss: 1.4721 - mse: 1.4721\n",
            "Epoch 32/200\n",
            "44/44 [==============================] - 0s 2ms/step - loss: 1.4721 - mse: 1.4721\n",
            "Epoch 33/200\n",
            "44/44 [==============================] - 0s 2ms/step - loss: 1.4721 - mse: 1.4721\n",
            "Epoch 34/200\n",
            "44/44 [==============================] - 0s 2ms/step - loss: 1.4721 - mse: 1.4721\n",
            "Epoch 35/200\n",
            "44/44 [==============================] - 0s 2ms/step - loss: 1.4721 - mse: 1.4721\n",
            "Epoch 36/200\n",
            "44/44 [==============================] - 0s 3ms/step - loss: 1.4721 - mse: 1.4721\n",
            "Epoch 37/200\n",
            "44/44 [==============================] - 0s 2ms/step - loss: 1.4721 - mse: 1.4721\n",
            "Epoch 38/200\n",
            "44/44 [==============================] - 0s 2ms/step - loss: 1.4721 - mse: 1.4721\n",
            "Epoch 39/200\n",
            "44/44 [==============================] - 0s 2ms/step - loss: 1.4721 - mse: 1.4721\n",
            "Epoch 40/200\n",
            "44/44 [==============================] - 0s 2ms/step - loss: 1.4721 - mse: 1.4721\n",
            "Epoch 41/200\n",
            "44/44 [==============================] - 0s 2ms/step - loss: 1.4721 - mse: 1.4721\n",
            "Epoch 42/200\n",
            "44/44 [==============================] - 0s 2ms/step - loss: 1.4721 - mse: 1.4721\n",
            "Epoch 43/200\n",
            "44/44 [==============================] - 0s 2ms/step - loss: 1.4721 - mse: 1.4721\n",
            "Epoch 44/200\n",
            "44/44 [==============================] - 0s 2ms/step - loss: 1.4721 - mse: 1.4721\n",
            "Epoch 45/200\n",
            "44/44 [==============================] - 0s 2ms/step - loss: 1.4721 - mse: 1.4721\n",
            "Epoch 46/200\n",
            "44/44 [==============================] - 0s 2ms/step - loss: 1.4721 - mse: 1.4721\n",
            "Epoch 47/200\n",
            "44/44 [==============================] - 0s 2ms/step - loss: 1.4721 - mse: 1.4721\n",
            "Epoch 48/200\n",
            "44/44 [==============================] - 0s 2ms/step - loss: 1.4721 - mse: 1.4721\n",
            "Epoch 49/200\n",
            "44/44 [==============================] - 0s 2ms/step - loss: 1.4721 - mse: 1.4721\n",
            "Epoch 50/200\n",
            "44/44 [==============================] - 0s 2ms/step - loss: 1.4721 - mse: 1.4721\n",
            "Epoch 51/200\n",
            "44/44 [==============================] - 0s 2ms/step - loss: 1.4721 - mse: 1.4721\n",
            "Epoch 52/200\n",
            "44/44 [==============================] - 0s 2ms/step - loss: 1.4721 - mse: 1.4721\n",
            "Epoch 53/200\n",
            "44/44 [==============================] - 0s 2ms/step - loss: 1.4721 - mse: 1.4721\n",
            "Epoch 54/200\n",
            "44/44 [==============================] - 0s 2ms/step - loss: 1.4721 - mse: 1.4721\n",
            "Epoch 55/200\n",
            "44/44 [==============================] - 0s 3ms/step - loss: 1.4721 - mse: 1.4721\n",
            "Epoch 56/200\n",
            "44/44 [==============================] - 0s 3ms/step - loss: 1.4721 - mse: 1.4721\n",
            "Epoch 57/200\n",
            "44/44 [==============================] - 0s 2ms/step - loss: 1.4721 - mse: 1.4721\n",
            "Epoch 58/200\n",
            "44/44 [==============================] - 0s 2ms/step - loss: 1.4721 - mse: 1.4721\n",
            "Epoch 59/200\n",
            "44/44 [==============================] - 0s 2ms/step - loss: 1.4721 - mse: 1.4721\n",
            "Epoch 60/200\n",
            "44/44 [==============================] - 0s 2ms/step - loss: 1.4721 - mse: 1.4721\n",
            "Epoch 61/200\n",
            "44/44 [==============================] - 0s 2ms/step - loss: 1.4721 - mse: 1.4721\n",
            "Epoch 62/200\n",
            "44/44 [==============================] - 0s 2ms/step - loss: 1.4721 - mse: 1.4721\n",
            "Epoch 63/200\n",
            "44/44 [==============================] - 0s 3ms/step - loss: 1.4721 - mse: 1.4721\n",
            "Epoch 64/200\n",
            "44/44 [==============================] - 0s 3ms/step - loss: 1.4721 - mse: 1.4721\n",
            "Epoch 65/200\n",
            "44/44 [==============================] - 0s 2ms/step - loss: 1.4721 - mse: 1.4721\n",
            "Epoch 66/200\n",
            "44/44 [==============================] - 0s 2ms/step - loss: 1.4721 - mse: 1.4721\n",
            "Epoch 67/200\n",
            "44/44 [==============================] - 0s 3ms/step - loss: 1.4721 - mse: 1.4721\n",
            "Epoch 68/200\n",
            "44/44 [==============================] - 0s 2ms/step - loss: 1.4721 - mse: 1.4721\n",
            "Epoch 69/200\n",
            "44/44 [==============================] - 0s 3ms/step - loss: 1.4721 - mse: 1.4721\n",
            "Epoch 70/200\n",
            "44/44 [==============================] - 0s 2ms/step - loss: 1.4721 - mse: 1.4721\n",
            "Epoch 71/200\n",
            "44/44 [==============================] - 0s 2ms/step - loss: 1.4721 - mse: 1.4721\n",
            "Epoch 72/200\n",
            "44/44 [==============================] - 0s 2ms/step - loss: 1.4721 - mse: 1.4721\n",
            "Epoch 73/200\n",
            "44/44 [==============================] - 0s 2ms/step - loss: 1.4721 - mse: 1.4721\n",
            "Epoch 74/200\n",
            "44/44 [==============================] - 0s 2ms/step - loss: 1.4721 - mse: 1.4721\n",
            "Epoch 75/200\n",
            "44/44 [==============================] - 0s 2ms/step - loss: 1.4721 - mse: 1.4721\n",
            "Epoch 76/200\n",
            "44/44 [==============================] - 0s 2ms/step - loss: 1.4721 - mse: 1.4721\n",
            "Epoch 77/200\n",
            "44/44 [==============================] - 0s 4ms/step - loss: 1.4721 - mse: 1.4721\n",
            "Epoch 78/200\n",
            "44/44 [==============================] - 0s 4ms/step - loss: 1.4721 - mse: 1.4721\n",
            "Epoch 79/200\n",
            "44/44 [==============================] - 0s 4ms/step - loss: 1.4721 - mse: 1.4721\n",
            "Epoch 80/200\n",
            "44/44 [==============================] - 0s 4ms/step - loss: 1.4721 - mse: 1.4721\n",
            "Epoch 81/200\n",
            "44/44 [==============================] - 0s 4ms/step - loss: 1.4721 - mse: 1.4721\n",
            "Epoch 82/200\n",
            "44/44 [==============================] - 0s 4ms/step - loss: 1.4721 - mse: 1.4721\n",
            "Epoch 83/200\n",
            "44/44 [==============================] - 0s 4ms/step - loss: 1.4721 - mse: 1.4721\n",
            "Epoch 84/200\n",
            "44/44 [==============================] - 0s 3ms/step - loss: 1.4721 - mse: 1.4721\n",
            "Epoch 85/200\n",
            "44/44 [==============================] - 0s 3ms/step - loss: 1.4721 - mse: 1.4721\n",
            "Epoch 86/200\n",
            "44/44 [==============================] - 0s 4ms/step - loss: 1.4721 - mse: 1.4721\n",
            "Epoch 87/200\n",
            "44/44 [==============================] - 0s 3ms/step - loss: 1.4721 - mse: 1.4721\n",
            "Epoch 88/200\n",
            "44/44 [==============================] - 0s 3ms/step - loss: 1.4721 - mse: 1.4721\n",
            "Epoch 89/200\n",
            "44/44 [==============================] - 0s 4ms/step - loss: 1.4721 - mse: 1.4721\n",
            "Epoch 90/200\n",
            "44/44 [==============================] - 0s 4ms/step - loss: 1.4721 - mse: 1.4721\n",
            "Epoch 91/200\n",
            "44/44 [==============================] - 0s 3ms/step - loss: 1.4721 - mse: 1.4721\n",
            "Epoch 92/200\n",
            "44/44 [==============================] - 0s 4ms/step - loss: 1.4721 - mse: 1.4721\n",
            "Epoch 93/200\n",
            "44/44 [==============================] - 0s 4ms/step - loss: 1.4721 - mse: 1.4721\n",
            "Epoch 94/200\n",
            "44/44 [==============================] - 0s 4ms/step - loss: 1.4721 - mse: 1.4721\n",
            "Epoch 95/200\n",
            "44/44 [==============================] - 0s 4ms/step - loss: 1.4721 - mse: 1.4721\n",
            "Epoch 96/200\n",
            "44/44 [==============================] - 0s 2ms/step - loss: 1.4721 - mse: 1.4721\n",
            "Epoch 97/200\n",
            "44/44 [==============================] - 0s 2ms/step - loss: 1.4721 - mse: 1.4721\n",
            "Epoch 98/200\n",
            "44/44 [==============================] - 0s 2ms/step - loss: 1.4721 - mse: 1.4721\n",
            "Epoch 99/200\n",
            "44/44 [==============================] - 0s 2ms/step - loss: 1.4721 - mse: 1.4721\n",
            "Epoch 100/200\n",
            "44/44 [==============================] - 0s 2ms/step - loss: 1.4721 - mse: 1.4721\n",
            "Epoch 101/200\n",
            "44/44 [==============================] - 0s 2ms/step - loss: 1.4721 - mse: 1.4721\n",
            "Epoch 102/200\n",
            "44/44 [==============================] - 0s 2ms/step - loss: 1.4721 - mse: 1.4721\n",
            "Epoch 103/200\n",
            "44/44 [==============================] - 0s 2ms/step - loss: 1.4721 - mse: 1.4721\n",
            "Epoch 104/200\n",
            "44/44 [==============================] - 0s 2ms/step - loss: 1.4721 - mse: 1.4721\n",
            "Epoch 105/200\n",
            "44/44 [==============================] - 0s 2ms/step - loss: 1.4721 - mse: 1.4721\n",
            "Epoch 106/200\n",
            "44/44 [==============================] - 0s 2ms/step - loss: 1.4721 - mse: 1.4721\n",
            "Epoch 107/200\n",
            "44/44 [==============================] - 0s 2ms/step - loss: 1.4721 - mse: 1.4721\n",
            "Epoch 108/200\n",
            "44/44 [==============================] - 0s 2ms/step - loss: 1.4721 - mse: 1.4721\n",
            "Epoch 109/200\n",
            "44/44 [==============================] - 0s 2ms/step - loss: 1.4721 - mse: 1.4721\n",
            "Epoch 110/200\n",
            "44/44 [==============================] - 0s 2ms/step - loss: 1.4721 - mse: 1.4721\n",
            "Epoch 111/200\n",
            "44/44 [==============================] - 0s 2ms/step - loss: 1.4721 - mse: 1.4721\n",
            "Epoch 112/200\n",
            "44/44 [==============================] - 0s 2ms/step - loss: 1.4721 - mse: 1.4721\n",
            "Epoch 113/200\n",
            "44/44 [==============================] - 0s 2ms/step - loss: 1.4721 - mse: 1.4721\n",
            "Epoch 114/200\n",
            "44/44 [==============================] - 0s 2ms/step - loss: 1.4721 - mse: 1.4721\n",
            "Epoch 115/200\n",
            "44/44 [==============================] - 0s 3ms/step - loss: 1.4721 - mse: 1.4721\n",
            "Epoch 116/200\n",
            "44/44 [==============================] - 0s 2ms/step - loss: 1.4721 - mse: 1.4721\n",
            "Epoch 117/200\n",
            "44/44 [==============================] - 0s 3ms/step - loss: 1.4721 - mse: 1.4721\n",
            "Epoch 118/200\n",
            "44/44 [==============================] - 0s 2ms/step - loss: 1.4721 - mse: 1.4721\n",
            "Epoch 119/200\n",
            "44/44 [==============================] - 0s 3ms/step - loss: 1.4721 - mse: 1.4721\n",
            "Epoch 120/200\n",
            "44/44 [==============================] - 0s 3ms/step - loss: 1.4721 - mse: 1.4721\n",
            "Epoch 121/200\n",
            "44/44 [==============================] - 0s 2ms/step - loss: 1.4721 - mse: 1.4721\n",
            "Epoch 122/200\n",
            "44/44 [==============================] - 0s 3ms/step - loss: 1.4721 - mse: 1.4721\n",
            "Epoch 123/200\n",
            "44/44 [==============================] - 0s 2ms/step - loss: 1.4721 - mse: 1.4721\n",
            "Epoch 124/200\n",
            "44/44 [==============================] - 0s 2ms/step - loss: 1.4721 - mse: 1.4721\n",
            "Epoch 125/200\n",
            "44/44 [==============================] - 0s 3ms/step - loss: 1.4721 - mse: 1.4721\n",
            "Epoch 126/200\n",
            "44/44 [==============================] - 0s 3ms/step - loss: 1.4721 - mse: 1.4721\n",
            "Epoch 127/200\n",
            "44/44 [==============================] - 0s 3ms/step - loss: 1.4721 - mse: 1.4721\n",
            "Epoch 128/200\n",
            "44/44 [==============================] - 0s 3ms/step - loss: 1.4721 - mse: 1.4721\n",
            "Epoch 129/200\n",
            "44/44 [==============================] - 0s 3ms/step - loss: 1.4721 - mse: 1.4721\n",
            "Epoch 130/200\n",
            "44/44 [==============================] - 0s 3ms/step - loss: 1.4721 - mse: 1.4721\n",
            "Epoch 131/200\n",
            "44/44 [==============================] - 0s 2ms/step - loss: 1.4721 - mse: 1.4721\n",
            "Epoch 132/200\n",
            "44/44 [==============================] - 0s 3ms/step - loss: 1.4721 - mse: 1.4721\n",
            "Epoch 133/200\n",
            "44/44 [==============================] - 0s 2ms/step - loss: 1.4721 - mse: 1.4721\n",
            "Epoch 134/200\n",
            "44/44 [==============================] - 0s 3ms/step - loss: 1.4721 - mse: 1.4721\n",
            "Epoch 135/200\n",
            "44/44 [==============================] - 0s 3ms/step - loss: 1.4721 - mse: 1.4721\n",
            "Epoch 136/200\n",
            "44/44 [==============================] - 0s 3ms/step - loss: 1.4721 - mse: 1.4721\n",
            "Epoch 137/200\n",
            "44/44 [==============================] - 0s 3ms/step - loss: 1.4721 - mse: 1.4721\n",
            "Epoch 138/200\n",
            "44/44 [==============================] - 0s 2ms/step - loss: 1.4721 - mse: 1.4721\n",
            "Epoch 139/200\n",
            "44/44 [==============================] - 0s 2ms/step - loss: 1.4721 - mse: 1.4721\n",
            "Epoch 140/200\n",
            "44/44 [==============================] - 0s 2ms/step - loss: 1.4721 - mse: 1.4721\n",
            "Epoch 141/200\n",
            "44/44 [==============================] - 0s 2ms/step - loss: 1.4721 - mse: 1.4721\n",
            "Epoch 142/200\n",
            "44/44 [==============================] - 0s 2ms/step - loss: 1.4721 - mse: 1.4721\n",
            "Epoch 143/200\n",
            "44/44 [==============================] - 0s 2ms/step - loss: 1.4721 - mse: 1.4721\n",
            "Epoch 144/200\n",
            "44/44 [==============================] - 0s 3ms/step - loss: 1.4721 - mse: 1.4721\n",
            "Epoch 145/200\n",
            "44/44 [==============================] - 0s 3ms/step - loss: 1.4721 - mse: 1.4721\n",
            "Epoch 146/200\n",
            "44/44 [==============================] - 0s 3ms/step - loss: 1.4721 - mse: 1.4721\n",
            "Epoch 147/200\n",
            "44/44 [==============================] - 0s 2ms/step - loss: 1.4721 - mse: 1.4721\n",
            "Epoch 148/200\n",
            "44/44 [==============================] - 0s 3ms/step - loss: 1.4721 - mse: 1.4721\n",
            "Epoch 149/200\n",
            "44/44 [==============================] - 0s 2ms/step - loss: 1.4721 - mse: 1.4721\n",
            "Epoch 150/200\n",
            "44/44 [==============================] - 0s 2ms/step - loss: 1.4721 - mse: 1.4721\n",
            "Epoch 151/200\n",
            "44/44 [==============================] - 0s 2ms/step - loss: 1.4721 - mse: 1.4721\n",
            "Epoch 152/200\n",
            "44/44 [==============================] - 0s 3ms/step - loss: 1.4721 - mse: 1.4721\n",
            "Epoch 153/200\n",
            "44/44 [==============================] - 0s 3ms/step - loss: 1.4721 - mse: 1.4721\n",
            "Epoch 154/200\n",
            "44/44 [==============================] - 0s 3ms/step - loss: 1.4721 - mse: 1.4721\n",
            "Epoch 155/200\n",
            "44/44 [==============================] - 0s 2ms/step - loss: 1.4721 - mse: 1.4721\n",
            "Epoch 156/200\n",
            "44/44 [==============================] - 0s 3ms/step - loss: 1.4721 - mse: 1.4721\n",
            "Epoch 157/200\n",
            "44/44 [==============================] - 0s 2ms/step - loss: 1.4721 - mse: 1.4721\n",
            "Epoch 158/200\n",
            "44/44 [==============================] - 0s 2ms/step - loss: 1.4721 - mse: 1.4721\n",
            "Epoch 159/200\n",
            "44/44 [==============================] - 0s 2ms/step - loss: 1.4721 - mse: 1.4721\n",
            "Epoch 160/200\n",
            "44/44 [==============================] - 0s 2ms/step - loss: 1.4721 - mse: 1.4721\n",
            "Epoch 161/200\n",
            "44/44 [==============================] - 0s 2ms/step - loss: 1.4721 - mse: 1.4721\n",
            "Epoch 162/200\n",
            "44/44 [==============================] - 0s 2ms/step - loss: 1.4721 - mse: 1.4721\n",
            "Epoch 163/200\n",
            "44/44 [==============================] - 0s 3ms/step - loss: 1.4721 - mse: 1.4721\n",
            "Epoch 164/200\n",
            "44/44 [==============================] - 0s 2ms/step - loss: 1.4721 - mse: 1.4721\n",
            "Epoch 165/200\n",
            "44/44 [==============================] - 0s 2ms/step - loss: 1.4721 - mse: 1.4721\n",
            "Epoch 166/200\n",
            "44/44 [==============================] - 0s 2ms/step - loss: 1.4721 - mse: 1.4721\n",
            "Epoch 167/200\n",
            "44/44 [==============================] - 0s 2ms/step - loss: 1.4721 - mse: 1.4721\n",
            "Epoch 168/200\n",
            "44/44 [==============================] - 0s 2ms/step - loss: 1.4721 - mse: 1.4721\n",
            "Epoch 169/200\n",
            "44/44 [==============================] - 0s 2ms/step - loss: 1.4721 - mse: 1.4721\n",
            "Epoch 170/200\n",
            "44/44 [==============================] - 0s 2ms/step - loss: 1.4721 - mse: 1.4721\n",
            "Epoch 171/200\n",
            "44/44 [==============================] - 0s 2ms/step - loss: 1.4721 - mse: 1.4721\n",
            "Epoch 172/200\n",
            "44/44 [==============================] - 0s 3ms/step - loss: 1.4721 - mse: 1.4721\n",
            "Epoch 173/200\n",
            "44/44 [==============================] - 0s 2ms/step - loss: 1.4721 - mse: 1.4721\n",
            "Epoch 174/200\n",
            "44/44 [==============================] - 0s 2ms/step - loss: 1.4721 - mse: 1.4721\n",
            "Epoch 175/200\n",
            "44/44 [==============================] - 0s 2ms/step - loss: 1.4721 - mse: 1.4721\n",
            "Epoch 176/200\n",
            "44/44 [==============================] - 0s 2ms/step - loss: 1.4721 - mse: 1.4721\n",
            "Epoch 177/200\n",
            "44/44 [==============================] - 0s 2ms/step - loss: 1.4721 - mse: 1.4721\n",
            "Epoch 178/200\n",
            "44/44 [==============================] - 0s 2ms/step - loss: 1.4721 - mse: 1.4721\n",
            "Epoch 179/200\n",
            "44/44 [==============================] - 0s 2ms/step - loss: 1.4721 - mse: 1.4721\n",
            "Epoch 180/200\n",
            "44/44 [==============================] - 0s 2ms/step - loss: 1.4721 - mse: 1.4721\n",
            "Epoch 181/200\n",
            "44/44 [==============================] - 0s 2ms/step - loss: 1.4721 - mse: 1.4721\n",
            "Epoch 182/200\n",
            "44/44 [==============================] - 0s 2ms/step - loss: 1.4721 - mse: 1.4721\n",
            "Epoch 183/200\n",
            "44/44 [==============================] - 0s 3ms/step - loss: 1.4721 - mse: 1.4721\n",
            "Epoch 184/200\n",
            "44/44 [==============================] - 0s 4ms/step - loss: 1.4721 - mse: 1.4721\n",
            "Epoch 185/200\n",
            "44/44 [==============================] - 0s 3ms/step - loss: 1.4721 - mse: 1.4721\n",
            "Epoch 186/200\n",
            "44/44 [==============================] - 0s 3ms/step - loss: 1.4721 - mse: 1.4721\n",
            "Epoch 187/200\n",
            "44/44 [==============================] - 0s 3ms/step - loss: 1.4721 - mse: 1.4721\n",
            "Epoch 188/200\n",
            "44/44 [==============================] - 0s 3ms/step - loss: 1.4721 - mse: 1.4721\n",
            "Epoch 189/200\n",
            "44/44 [==============================] - 0s 4ms/step - loss: 1.4721 - mse: 1.4721\n",
            "Epoch 190/200\n",
            "44/44 [==============================] - 0s 3ms/step - loss: 1.4721 - mse: 1.4721\n",
            "Epoch 191/200\n",
            "44/44 [==============================] - 0s 4ms/step - loss: 1.4721 - mse: 1.4721\n",
            "Epoch 192/200\n",
            "44/44 [==============================] - 0s 4ms/step - loss: 1.4721 - mse: 1.4721\n",
            "Epoch 193/200\n",
            "44/44 [==============================] - 0s 4ms/step - loss: 1.4721 - mse: 1.4721\n",
            "Epoch 194/200\n",
            "44/44 [==============================] - 0s 4ms/step - loss: 1.4721 - mse: 1.4721\n",
            "Epoch 195/200\n",
            "44/44 [==============================] - 0s 3ms/step - loss: 1.4721 - mse: 1.4721\n",
            "Epoch 196/200\n",
            "44/44 [==============================] - 0s 3ms/step - loss: 1.4721 - mse: 1.4721\n",
            "Epoch 197/200\n",
            "44/44 [==============================] - 0s 4ms/step - loss: 1.4721 - mse: 1.4721\n",
            "Epoch 198/200\n",
            "44/44 [==============================] - 0s 3ms/step - loss: 1.4721 - mse: 1.4721\n",
            "Epoch 199/200\n",
            "44/44 [==============================] - 0s 3ms/step - loss: 1.4721 - mse: 1.4721\n",
            "Epoch 200/200\n",
            "44/44 [==============================] - 0s 4ms/step - loss: 1.4721 - mse: 1.4721\n",
            "Model: \"sequential_5\"\n",
            "_________________________________________________________________\n",
            " Layer (type)                Output Shape              Param #   \n",
            "=================================================================\n",
            " dense_13 (Dense)            (None, 64)                1280      \n",
            "                                                                 \n",
            " dense_14 (Dense)            (None, 32)                2080      \n",
            "                                                                 \n",
            " dense_15 (Dense)            (None, 1)                 33        \n",
            "                                                                 \n",
            "=================================================================\n",
            "Total params: 3,393\n",
            "Trainable params: 3,393\n",
            "Non-trainable params: 0\n",
            "_________________________________________________________________\n"
          ]
        }
      ]
    },
    {
      "cell_type": "code",
      "source": [
        "loss, mse=model.evaluate(X_test,y_test)\n",
        "print(\"MSE: \",mse)"
      ],
      "metadata": {
        "colab": {
          "base_uri": "https://localhost:8080/"
        },
        "id": "5TDxrv_FlUkI",
        "outputId": "089dbb97-8e7b-487c-9479-fd14a1bdd09b"
      },
      "execution_count": null,
      "outputs": [
        {
          "output_type": "stream",
          "name": "stdout",
          "text": [
            "19/19 [==============================] - 0s 2ms/step - loss: 0.1748 - mse: 0.1748\n",
            "MSE:  0.17483879625797272\n"
          ]
        }
      ]
    },
    {
      "cell_type": "code",
      "source": [
        "y_train_predict=model.predict(X_train)\n",
        "y_test_predict=model.predict(X_test)"
      ],
      "metadata": {
        "colab": {
          "base_uri": "https://localhost:8080/"
        },
        "id": "DSI_6KBbmTMq",
        "outputId": "db6ba405-9a01-417a-da0a-7acccf08b651"
      },
      "execution_count": null,
      "outputs": [
        {
          "output_type": "stream",
          "name": "stdout",
          "text": [
            "44/44 [==============================] - 0s 1ms/step\n",
            "19/19 [==============================] - 0s 2ms/step\n"
          ]
        }
      ]
    },
    {
      "cell_type": "code",
      "source": [
        "from sklearn.metrics import r2_score\n",
        "print(\"R^2 Score:\", r2_score(y_train,y_train_predict))\n",
        "print(r2_score(y_test,y_test_predict))"
      ],
      "metadata": {
        "colab": {
          "base_uri": "https://localhost:8080/"
        },
        "id": "6TM6Cx8VnIyD",
        "outputId": "6e22b06e-152f-4dde-89bf-79eef7560aa2"
      },
      "execution_count": null,
      "outputs": [
        {
          "output_type": "stream",
          "name": "stdout",
          "text": [
            "R^2 Score: 0.9989270091008957\n",
            "0.8595267973675221\n"
          ]
        }
      ]
    },
    {
      "cell_type": "code",
      "source": [
        "import matplotlib.pyplot as plt\n",
        "plt.plot(history.history[\"loss\"])\n",
        "plt.xlabel(\"epoch\")\n",
        "plt.ylabel(\"loss\")\n",
        "plt.show()\n"
      ],
      "metadata": {
        "colab": {
          "base_uri": "https://localhost:8080/",
          "height": 279
        },
        "id": "SR-QyENMp9q1",
        "outputId": "65a1a6f6-28df-4ae5-f2dd-d0ab4bff13ff"
      },
      "execution_count": null,
      "outputs": [
        {
          "output_type": "display_data",
          "data": {
            "text/plain": [
              "<Figure size 432x288 with 1 Axes>"
            ],
            "image/png": "[encoded data removed]"
          },
          "metadata": {
            "needs_background": "light"
          }
        }
      ]
    },
    {
      "cell_type": "code",
      "source": [
        "train_new=X_train.reshape(-1,19)\n",
        "test_new=X_test.reshape(-1,19)\n",
        "\n",
        "model2=keras.Sequential()\n",
        "model2.add(keras.layers.Conv1D(filters=32, kernel_size=3, activation='relu', input_shape=(19,1)))\n",
        "model2.add(keras.layers.MaxPooling1D(pool_size=2, strides = 1))"
      ],
      "metadata": {
        "id": "5nPyYejmwX9h"
      },
      "execution_count": null,
      "outputs": []
    },
    {
      "cell_type": "code",
      "source": [
        "model2.add(keras.layers.Flatten())\n",
        "model2.add(keras.layers.Dense(784, activation='relu'))\n",
        "model2.add(keras.layers.Dense(10, activation='softmax'))\n"
      ],
      "metadata": {
        "id": "gcliABIlJ7Yr"
      },
      "execution_count": null,
      "outputs": []
    },
    {
      "cell_type": "code",
      "source": [
        "model2.compile(optimizer=\"adam\",loss=\"sparse_categorical_crossentropy\",\n",
        "              metrics=\"accuracy\")"
      ],
      "metadata": {
        "id": "Gr6EXDgHLWC4"
      },
      "execution_count": null,
      "outputs": []
    },
    {
      "cell_type": "markdown",
      "source": [],
      "metadata": {
        "id": "WsucbjIasa05"
      }
    },
    {
      "cell_type": "code",
      "source": [
        "history2=model.fit(train_new,y_train,epochs=5)"
      ],
      "metadata": {
        "colab": {
          "base_uri": "https://localhost:8080/"
        },
        "id": "EbMz6Ke-L5n6",
        "outputId": "a6f1123d-6588-4533-9de9-8373eb5e7ffb"
      },
      "execution_count": null,
      "outputs": [
        {
          "output_type": "stream",
          "name": "stdout",
          "text": [
            "Epoch 1/5\n",
            "44/44 [==============================] - 0s 2ms/step - loss: 0.0011 - mse: 0.0011\n",
            "Epoch 2/5\n",
            "44/44 [==============================] - 0s 2ms/step - loss: 0.0020 - mse: 0.0020\n",
            "Epoch 3/5\n",
            "44/44 [==============================] - 0s 2ms/step - loss: 0.0017 - mse: 0.0017\n",
            "Epoch 4/5\n",
            "44/44 [==============================] - 0s 2ms/step - loss: 0.0018 - mse: 0.0018\n",
            "Epoch 5/5\n",
            "44/44 [==============================] - 0s 2ms/step - loss: 0.0017 - mse: 0.0017\n"
          ]
        }
      ]
    },
    {
      "cell_type": "code",
      "source": [
        "df2=pd.read_csv(\"/content/mobile2.csv\")\n",
        "x2=df2.drop(\"price_range\",axis=1)\n",
        "y2=df2[\"price_range\"]"
      ],
      "metadata": {
        "id": "nmy8HqWvskKO"
      },
      "execution_count": null,
      "outputs": []
    },
    {
      "cell_type": "code",
      "source": [
        "sc2=StandardScaler()\n",
        "X_train2 = sc.fit_transform(X_train)\n",
        "X_test2 = sc.transform(X_test)\n",
        "\n"
      ],
      "metadata": {
        "id": "yaqEs4CIHLZf"
      },
      "execution_count": null,
      "outputs": []
    },
    {
      "cell_type": "code",
      "source": [
        "model=keras.Sequential()\n",
        "model.add(tf.keras.layers.Dense(64,activation=\"relu\",\n",
        "                               input_shape=(X_train.shape[1],))) #input layer\n",
        "model.add(tf.keras.layers.Dense(32,activation=\"relu\")) #second\n",
        "model.add(tf.keras.layers.Dense(1,activation=\"linear\")) #output"
      ],
      "metadata": {
        "id": "Heh43KsFHXll"
      },
      "execution_count": null,
      "outputs": []
    },
    {
      "cell_type": "code",
      "source": [
        "from sklearn import model_selection\n",
        "model.compile(optimizer=\"adam\",loss=\"mean_squared_error\",metrics=\"mse\")\n",
        "#learning\n",
        "history=model.fit(X_train2,y_train,epochs=200)\n",
        "model.summary()"
      ],
      "metadata": {
        "colab": {
          "base_uri": "https://localhost:8080/"
        },
        "id": "YrtHcX07HzGA",
        "outputId": "118b1fef-790f-45cc-c4b5-59d1354ad385"
      },
      "execution_count": null,
      "outputs": [
        {
          "output_type": "stream",
          "name": "stdout",
          "text": [
            "Epoch 1/200\n",
            "44/44 [==============================] - 1s 2ms/step - loss: 1.3150 - mse: 1.3150\n",
            "Epoch 2/200\n",
            "44/44 [==============================] - 0s 2ms/step - loss: 0.3901 - mse: 0.3901\n",
            "Epoch 3/200\n",
            "44/44 [==============================] - 0s 2ms/step - loss: 0.2035 - mse: 0.2035\n",
            "Epoch 4/200\n",
            "44/44 [==============================] - 0s 2ms/step - loss: 0.1641 - mse: 0.1641\n",
            "Epoch 5/200\n",
            "44/44 [==============================] - 0s 2ms/step - loss: 0.1426 - mse: 0.1426\n",
            "Epoch 6/200\n",
            "44/44 [==============================] - 0s 2ms/step - loss: 0.1278 - mse: 0.1278\n",
            "Epoch 7/200\n",
            "44/44 [==============================] - 0s 2ms/step - loss: 0.1161 - mse: 0.1161\n",
            "Epoch 8/200\n",
            "44/44 [==============================] - 0s 2ms/step - loss: 0.1119 - mse: 0.1119\n",
            "Epoch 9/200\n",
            "44/44 [==============================] - 0s 3ms/step - loss: 0.1012 - mse: 0.1012\n",
            "Epoch 10/200\n",
            "44/44 [==============================] - 0s 2ms/step - loss: 0.0966 - mse: 0.0966\n",
            "Epoch 11/200\n",
            "44/44 [==============================] - 0s 2ms/step - loss: 0.0909 - mse: 0.0909\n",
            "Epoch 12/200\n",
            "44/44 [==============================] - 0s 2ms/step - loss: 0.0856 - mse: 0.0856\n",
            "Epoch 13/200\n",
            "44/44 [==============================] - 0s 2ms/step - loss: 0.0822 - mse: 0.0822\n",
            "Epoch 14/200\n",
            "44/44 [==============================] - 0s 2ms/step - loss: 0.0801 - mse: 0.0801\n",
            "Epoch 15/200\n",
            "44/44 [==============================] - 0s 2ms/step - loss: 0.0768 - mse: 0.0768\n",
            "Epoch 16/200\n",
            "44/44 [==============================] - 0s 2ms/step - loss: 0.0735 - mse: 0.0735\n",
            "Epoch 17/200\n",
            "44/44 [==============================] - 0s 2ms/step - loss: 0.0709 - mse: 0.0709\n",
            "Epoch 18/200\n",
            "44/44 [==============================] - 0s 2ms/step - loss: 0.0690 - mse: 0.0690\n",
            "Epoch 19/200\n",
            "44/44 [==============================] - 0s 2ms/step - loss: 0.0661 - mse: 0.0661\n",
            "Epoch 20/200\n",
            "44/44 [==============================] - 0s 2ms/step - loss: 0.0648 - mse: 0.0648\n",
            "Epoch 21/200\n",
            "44/44 [==============================] - 0s 2ms/step - loss: 0.0620 - mse: 0.0620\n",
            "Epoch 22/200\n",
            "44/44 [==============================] - 0s 2ms/step - loss: 0.0603 - mse: 0.0603\n",
            "Epoch 23/200\n",
            "44/44 [==============================] - 0s 2ms/step - loss: 0.0582 - mse: 0.0582\n",
            "Epoch 24/200\n",
            "44/44 [==============================] - 0s 2ms/step - loss: 0.0589 - mse: 0.0589\n",
            "Epoch 25/200\n",
            "44/44 [==============================] - 0s 2ms/step - loss: 0.0547 - mse: 0.0547\n",
            "Epoch 26/200\n",
            "44/44 [==============================] - 0s 2ms/step - loss: 0.0548 - mse: 0.0548\n",
            "Epoch 27/200\n",
            "44/44 [==============================] - 0s 2ms/step - loss: 0.0522 - mse: 0.0522\n",
            "Epoch 28/200\n",
            "44/44 [==============================] - 0s 2ms/step - loss: 0.0502 - mse: 0.0502\n",
            "Epoch 29/200\n",
            "44/44 [==============================] - 0s 3ms/step - loss: 0.0478 - mse: 0.0478\n",
            "Epoch 30/200\n",
            "44/44 [==============================] - 0s 2ms/step - loss: 0.0478 - mse: 0.0478\n",
            "Epoch 31/200\n",
            "44/44 [==============================] - 0s 2ms/step - loss: 0.0460 - mse: 0.0460\n",
            "Epoch 32/200\n",
            "44/44 [==============================] - 0s 2ms/step - loss: 0.0443 - mse: 0.0443\n",
            "Epoch 33/200\n",
            "44/44 [==============================] - 0s 2ms/step - loss: 0.0429 - mse: 0.0429\n",
            "Epoch 34/200\n",
            "44/44 [==============================] - 0s 2ms/step - loss: 0.0419 - mse: 0.0419\n",
            "Epoch 35/200\n",
            "44/44 [==============================] - 0s 2ms/step - loss: 0.0408 - mse: 0.0408\n",
            "Epoch 36/200\n",
            "44/44 [==============================] - 0s 2ms/step - loss: 0.0390 - mse: 0.0390\n",
            "Epoch 37/200\n",
            "44/44 [==============================] - 0s 3ms/step - loss: 0.0375 - mse: 0.0375\n",
            "Epoch 38/200\n",
            "44/44 [==============================] - 0s 3ms/step - loss: 0.0367 - mse: 0.0367\n",
            "Epoch 39/200\n",
            "44/44 [==============================] - 0s 2ms/step - loss: 0.0367 - mse: 0.0367\n",
            "Epoch 40/200\n",
            "44/44 [==============================] - 0s 2ms/step - loss: 0.0364 - mse: 0.0364\n",
            "Epoch 41/200\n",
            "44/44 [==============================] - 0s 2ms/step - loss: 0.0344 - mse: 0.0344\n",
            "Epoch 42/200\n",
            "44/44 [==============================] - 0s 2ms/step - loss: 0.0328 - mse: 0.0328\n",
            "Epoch 43/200\n",
            "44/44 [==============================] - 0s 2ms/step - loss: 0.0324 - mse: 0.0324\n",
            "Epoch 44/200\n",
            "44/44 [==============================] - 0s 2ms/step - loss: 0.0312 - mse: 0.0312\n",
            "Epoch 45/200\n",
            "44/44 [==============================] - 0s 4ms/step - loss: 0.0308 - mse: 0.0308\n",
            "Epoch 46/200\n",
            "44/44 [==============================] - 0s 4ms/step - loss: 0.0297 - mse: 0.0297\n",
            "Epoch 47/200\n",
            "44/44 [==============================] - 0s 4ms/step - loss: 0.0291 - mse: 0.0291\n",
            "Epoch 48/200\n",
            "44/44 [==============================] - 0s 4ms/step - loss: 0.0273 - mse: 0.0273\n",
            "Epoch 49/200\n",
            "44/44 [==============================] - 0s 4ms/step - loss: 0.0274 - mse: 0.0274\n",
            "Epoch 50/200\n",
            "44/44 [==============================] - 0s 4ms/step - loss: 0.0273 - mse: 0.0273\n",
            "Epoch 51/200\n",
            "44/44 [==============================] - 0s 3ms/step - loss: 0.0264 - mse: 0.0264\n",
            "Epoch 52/200\n",
            "44/44 [==============================] - 0s 3ms/step - loss: 0.0247 - mse: 0.0247\n",
            "Epoch 53/200\n",
            "44/44 [==============================] - 0s 3ms/step - loss: 0.0243 - mse: 0.0243\n",
            "Epoch 54/200\n",
            "44/44 [==============================] - 0s 3ms/step - loss: 0.0232 - mse: 0.0232\n",
            "Epoch 55/200\n",
            "44/44 [==============================] - 0s 4ms/step - loss: 0.0234 - mse: 0.0234\n",
            "Epoch 56/200\n",
            "44/44 [==============================] - 0s 5ms/step - loss: 0.0230 - mse: 0.0230\n",
            "Epoch 57/200\n",
            "44/44 [==============================] - 0s 4ms/step - loss: 0.0225 - mse: 0.0225\n",
            "Epoch 58/200\n",
            "44/44 [==============================] - 0s 4ms/step - loss: 0.0214 - mse: 0.0214\n",
            "Epoch 59/200\n",
            "44/44 [==============================] - 0s 3ms/step - loss: 0.0207 - mse: 0.0207\n",
            "Epoch 60/200\n",
            "44/44 [==============================] - 0s 3ms/step - loss: 0.0203 - mse: 0.0203\n",
            "Epoch 61/200\n",
            "44/44 [==============================] - 0s 3ms/step - loss: 0.0195 - mse: 0.0195\n",
            "Epoch 62/200\n",
            "44/44 [==============================] - 0s 3ms/step - loss: 0.0195 - mse: 0.0195\n",
            "Epoch 63/200\n",
            "44/44 [==============================] - 0s 2ms/step - loss: 0.0193 - mse: 0.0193\n",
            "Epoch 64/200\n",
            "44/44 [==============================] - 0s 2ms/step - loss: 0.0186 - mse: 0.0186\n",
            "Epoch 65/200\n",
            "44/44 [==============================] - 0s 2ms/step - loss: 0.0198 - mse: 0.0198\n",
            "Epoch 66/200\n",
            "44/44 [==============================] - 0s 2ms/step - loss: 0.0177 - mse: 0.0177\n",
            "Epoch 67/200\n",
            "44/44 [==============================] - 0s 2ms/step - loss: 0.0164 - mse: 0.0164\n",
            "Epoch 68/200\n",
            "44/44 [==============================] - 0s 2ms/step - loss: 0.0166 - mse: 0.0166\n",
            "Epoch 69/200\n",
            "44/44 [==============================] - 0s 2ms/step - loss: 0.0176 - mse: 0.0176\n",
            "Epoch 70/200\n",
            "44/44 [==============================] - 0s 2ms/step - loss: 0.0162 - mse: 0.0162\n",
            "Epoch 71/200\n",
            "44/44 [==============================] - 0s 2ms/step - loss: 0.0152 - mse: 0.0152\n",
            "Epoch 72/200\n",
            "44/44 [==============================] - 0s 2ms/step - loss: 0.0147 - mse: 0.0147\n",
            "Epoch 73/200\n",
            "44/44 [==============================] - 0s 2ms/step - loss: 0.0151 - mse: 0.0151\n",
            "Epoch 74/200\n",
            "44/44 [==============================] - 0s 2ms/step - loss: 0.0143 - mse: 0.0143\n",
            "Epoch 75/200\n",
            "44/44 [==============================] - 0s 2ms/step - loss: 0.0140 - mse: 0.0140\n",
            "Epoch 76/200\n",
            "44/44 [==============================] - 0s 2ms/step - loss: 0.0135 - mse: 0.0135\n",
            "Epoch 77/200\n",
            "44/44 [==============================] - 0s 2ms/step - loss: 0.0138 - mse: 0.0138\n",
            "Epoch 78/200\n",
            "44/44 [==============================] - 0s 2ms/step - loss: 0.0125 - mse: 0.0125\n",
            "Epoch 79/200\n",
            "44/44 [==============================] - 0s 2ms/step - loss: 0.0120 - mse: 0.0120\n",
            "Epoch 80/200\n",
            "44/44 [==============================] - 0s 2ms/step - loss: 0.0116 - mse: 0.0116\n",
            "Epoch 81/200\n",
            "44/44 [==============================] - 0s 2ms/step - loss: 0.0123 - mse: 0.0123\n",
            "Epoch 82/200\n",
            "44/44 [==============================] - 0s 2ms/step - loss: 0.0114 - mse: 0.0114\n",
            "Epoch 83/200\n",
            "44/44 [==============================] - 0s 2ms/step - loss: 0.0112 - mse: 0.0112\n",
            "Epoch 84/200\n",
            "44/44 [==============================] - 0s 3ms/step - loss: 0.0109 - mse: 0.0109\n",
            "Epoch 85/200\n",
            "44/44 [==============================] - 0s 3ms/step - loss: 0.0107 - mse: 0.0107\n",
            "Epoch 86/200\n",
            "44/44 [==============================] - 0s 3ms/step - loss: 0.0103 - mse: 0.0103\n",
            "Epoch 87/200\n",
            "44/44 [==============================] - 0s 2ms/step - loss: 0.0099 - mse: 0.0099\n",
            "Epoch 88/200\n",
            "44/44 [==============================] - 0s 3ms/step - loss: 0.0101 - mse: 0.0101\n",
            "Epoch 89/200\n",
            "44/44 [==============================] - 0s 2ms/step - loss: 0.0096 - mse: 0.0096\n",
            "Epoch 90/200\n",
            "44/44 [==============================] - 0s 3ms/step - loss: 0.0091 - mse: 0.0091\n",
            "Epoch 91/200\n",
            "44/44 [==============================] - 0s 3ms/step - loss: 0.0087 - mse: 0.0087\n",
            "Epoch 92/200\n",
            "44/44 [==============================] - 0s 2ms/step - loss: 0.0090 - mse: 0.0090\n",
            "Epoch 93/200\n",
            "44/44 [==============================] - 0s 2ms/step - loss: 0.0085 - mse: 0.0085\n",
            "Epoch 94/200\n",
            "44/44 [==============================] - 0s 2ms/step - loss: 0.0085 - mse: 0.0085\n",
            "Epoch 95/200\n",
            "44/44 [==============================] - 0s 2ms/step - loss: 0.0083 - mse: 0.0083\n",
            "Epoch 96/200\n",
            "44/44 [==============================] - 0s 2ms/step - loss: 0.0076 - mse: 0.0076\n",
            "Epoch 97/200\n",
            "44/44 [==============================] - 0s 2ms/step - loss: 0.0085 - mse: 0.0085\n",
            "Epoch 98/200\n",
            "44/44 [==============================] - 0s 2ms/step - loss: 0.0075 - mse: 0.0075\n",
            "Epoch 99/200\n",
            "44/44 [==============================] - 0s 2ms/step - loss: 0.0077 - mse: 0.0077\n",
            "Epoch 100/200\n",
            "44/44 [==============================] - 0s 2ms/step - loss: 0.0071 - mse: 0.0071\n",
            "Epoch 101/200\n",
            "44/44 [==============================] - 0s 2ms/step - loss: 0.0072 - mse: 0.0072\n",
            "Epoch 102/200\n",
            "44/44 [==============================] - 0s 2ms/step - loss: 0.0073 - mse: 0.0073\n",
            "Epoch 103/200\n",
            "44/44 [==============================] - 0s 2ms/step - loss: 0.0067 - mse: 0.0067\n",
            "Epoch 104/200\n",
            "44/44 [==============================] - 0s 2ms/step - loss: 0.0070 - mse: 0.0070\n",
            "Epoch 105/200\n",
            "44/44 [==============================] - 0s 2ms/step - loss: 0.0067 - mse: 0.0067\n",
            "Epoch 106/200\n",
            "44/44 [==============================] - 0s 3ms/step - loss: 0.0066 - mse: 0.0066\n",
            "Epoch 107/200\n",
            "44/44 [==============================] - 0s 2ms/step - loss: 0.0067 - mse: 0.0067\n",
            "Epoch 108/200\n",
            "44/44 [==============================] - 0s 2ms/step - loss: 0.0061 - mse: 0.0061\n",
            "Epoch 109/200\n",
            "44/44 [==============================] - 0s 2ms/step - loss: 0.0058 - mse: 0.0058\n",
            "Epoch 110/200\n",
            "44/44 [==============================] - 0s 2ms/step - loss: 0.0059 - mse: 0.0059\n",
            "Epoch 111/200\n",
            "44/44 [==============================] - 0s 2ms/step - loss: 0.0063 - mse: 0.0063\n",
            "Epoch 112/200\n",
            "44/44 [==============================] - 0s 2ms/step - loss: 0.0055 - mse: 0.0055\n",
            "Epoch 113/200\n",
            "44/44 [==============================] - 0s 2ms/step - loss: 0.0050 - mse: 0.0050\n",
            "Epoch 114/200\n",
            "44/44 [==============================] - 0s 2ms/step - loss: 0.0052 - mse: 0.0052\n",
            "Epoch 115/200\n",
            "44/44 [==============================] - 0s 2ms/step - loss: 0.0049 - mse: 0.0049\n",
            "Epoch 116/200\n",
            "44/44 [==============================] - 0s 2ms/step - loss: 0.0058 - mse: 0.0058\n",
            "Epoch 117/200\n",
            "44/44 [==============================] - 0s 2ms/step - loss: 0.0076 - mse: 0.0076\n",
            "Epoch 118/200\n",
            "44/44 [==============================] - 0s 2ms/step - loss: 0.0051 - mse: 0.0051\n",
            "Epoch 119/200\n",
            "44/44 [==============================] - 0s 2ms/step - loss: 0.0049 - mse: 0.0049\n",
            "Epoch 120/200\n",
            "44/44 [==============================] - 0s 2ms/step - loss: 0.0046 - mse: 0.0046\n",
            "Epoch 121/200\n",
            "44/44 [==============================] - 0s 2ms/step - loss: 0.0049 - mse: 0.0049\n",
            "Epoch 122/200\n",
            "44/44 [==============================] - 0s 2ms/step - loss: 0.0050 - mse: 0.0050\n",
            "Epoch 123/200\n",
            "44/44 [==============================] - 0s 2ms/step - loss: 0.0044 - mse: 0.0044\n",
            "Epoch 124/200\n",
            "44/44 [==============================] - 0s 2ms/step - loss: 0.0042 - mse: 0.0042\n",
            "Epoch 125/200\n",
            "44/44 [==============================] - 0s 2ms/step - loss: 0.0042 - mse: 0.0042\n",
            "Epoch 126/200\n",
            "44/44 [==============================] - 0s 3ms/step - loss: 0.0041 - mse: 0.0041\n",
            "Epoch 127/200\n",
            "44/44 [==============================] - 0s 2ms/step - loss: 0.0040 - mse: 0.0040\n",
            "Epoch 128/200\n",
            "44/44 [==============================] - 0s 2ms/step - loss: 0.0038 - mse: 0.0038\n",
            "Epoch 129/200\n",
            "44/44 [==============================] - 0s 2ms/step - loss: 0.0038 - mse: 0.0038\n",
            "Epoch 130/200\n",
            "44/44 [==============================] - 0s 2ms/step - loss: 0.0034 - mse: 0.0034\n",
            "Epoch 131/200\n",
            "44/44 [==============================] - 0s 2ms/step - loss: 0.0032 - mse: 0.0032\n",
            "Epoch 132/200\n",
            "44/44 [==============================] - 0s 2ms/step - loss: 0.0037 - mse: 0.0037\n",
            "Epoch 133/200\n",
            "44/44 [==============================] - 0s 2ms/step - loss: 0.0032 - mse: 0.0032\n",
            "Epoch 134/200\n",
            "44/44 [==============================] - 0s 2ms/step - loss: 0.0033 - mse: 0.0033\n",
            "Epoch 135/200\n",
            "44/44 [==============================] - 0s 2ms/step - loss: 0.0037 - mse: 0.0037\n",
            "Epoch 136/200\n",
            "44/44 [==============================] - 0s 2ms/step - loss: 0.0032 - mse: 0.0032\n",
            "Epoch 137/200\n",
            "44/44 [==============================] - 0s 2ms/step - loss: 0.0044 - mse: 0.0044\n",
            "Epoch 138/200\n",
            "44/44 [==============================] - 0s 3ms/step - loss: 0.0039 - mse: 0.0039\n",
            "Epoch 139/200\n",
            "44/44 [==============================] - 0s 2ms/step - loss: 0.0033 - mse: 0.0033\n",
            "Epoch 140/200\n",
            "44/44 [==============================] - 0s 2ms/step - loss: 0.0027 - mse: 0.0027\n",
            "Epoch 141/200\n",
            "44/44 [==============================] - 0s 2ms/step - loss: 0.0031 - mse: 0.0031\n",
            "Epoch 142/200\n",
            "44/44 [==============================] - 0s 2ms/step - loss: 0.0029 - mse: 0.0029\n",
            "Epoch 143/200\n",
            "44/44 [==============================] - 0s 2ms/step - loss: 0.0034 - mse: 0.0034\n",
            "Epoch 144/200\n",
            "44/44 [==============================] - 0s 2ms/step - loss: 0.0028 - mse: 0.0028\n",
            "Epoch 145/200\n",
            "44/44 [==============================] - 0s 2ms/step - loss: 0.0028 - mse: 0.0028\n",
            "Epoch 146/200\n",
            "44/44 [==============================] - 0s 2ms/step - loss: 0.0022 - mse: 0.0022\n",
            "Epoch 147/200\n",
            "44/44 [==============================] - 0s 2ms/step - loss: 0.0022 - mse: 0.0022\n",
            "Epoch 148/200\n",
            "44/44 [==============================] - 0s 3ms/step - loss: 0.0026 - mse: 0.0026\n",
            "Epoch 149/200\n",
            "44/44 [==============================] - 0s 2ms/step - loss: 0.0024 - mse: 0.0024\n",
            "Epoch 150/200\n",
            "44/44 [==============================] - 0s 2ms/step - loss: 0.0027 - mse: 0.0027\n",
            "Epoch 151/200\n",
            "44/44 [==============================] - 0s 2ms/step - loss: 0.0028 - mse: 0.0028\n",
            "Epoch 152/200\n",
            "44/44 [==============================] - 0s 2ms/step - loss: 0.0023 - mse: 0.0023\n",
            "Epoch 153/200\n",
            "44/44 [==============================] - 0s 3ms/step - loss: 0.0023 - mse: 0.0023\n",
            "Epoch 154/200\n",
            "44/44 [==============================] - 0s 2ms/step - loss: 0.0021 - mse: 0.0021\n",
            "Epoch 155/200\n",
            "44/44 [==============================] - 0s 3ms/step - loss: 0.0026 - mse: 0.0026\n",
            "Epoch 156/200\n",
            "44/44 [==============================] - 0s 4ms/step - loss: 0.0028 - mse: 0.0028\n",
            "Epoch 157/200\n",
            "44/44 [==============================] - 0s 4ms/step - loss: 0.0031 - mse: 0.0031\n",
            "Epoch 158/200\n",
            "44/44 [==============================] - 0s 3ms/step - loss: 0.0024 - mse: 0.0024\n",
            "Epoch 159/200\n",
            "44/44 [==============================] - 0s 3ms/step - loss: 0.0020 - mse: 0.0020\n",
            "Epoch 160/200\n",
            "44/44 [==============================] - 0s 3ms/step - loss: 0.0021 - mse: 0.0021\n",
            "Epoch 161/200\n",
            "44/44 [==============================] - 0s 3ms/step - loss: 0.0025 - mse: 0.0025\n",
            "Epoch 162/200\n",
            "44/44 [==============================] - 0s 3ms/step - loss: 0.0025 - mse: 0.0025\n",
            "Epoch 163/200\n",
            "44/44 [==============================] - 0s 4ms/step - loss: 0.0022 - mse: 0.0022\n",
            "Epoch 164/200\n",
            "44/44 [==============================] - 0s 3ms/step - loss: 0.0018 - mse: 0.0018\n",
            "Epoch 165/200\n",
            "44/44 [==============================] - 0s 3ms/step - loss: 0.0020 - mse: 0.0020\n",
            "Epoch 166/200\n",
            "44/44 [==============================] - 0s 3ms/step - loss: 0.0019 - mse: 0.0019\n",
            "Epoch 167/200\n",
            "44/44 [==============================] - 0s 3ms/step - loss: 0.0022 - mse: 0.0022\n",
            "Epoch 168/200\n",
            "44/44 [==============================] - 0s 3ms/step - loss: 0.0024 - mse: 0.0024\n",
            "Epoch 169/200\n",
            "44/44 [==============================] - 0s 4ms/step - loss: 0.0020 - mse: 0.0020\n",
            "Epoch 170/200\n",
            "44/44 [==============================] - 0s 4ms/step - loss: 0.0024 - mse: 0.0024\n",
            "Epoch 171/200\n",
            "44/44 [==============================] - 0s 4ms/step - loss: 0.0023 - mse: 0.0023\n",
            "Epoch 172/200\n",
            "44/44 [==============================] - 0s 3ms/step - loss: 0.0022 - mse: 0.0022\n",
            "Epoch 173/200\n",
            "44/44 [==============================] - 0s 3ms/step - loss: 0.0026 - mse: 0.0026\n",
            "Epoch 174/200\n",
            "44/44 [==============================] - 0s 3ms/step - loss: 0.0026 - mse: 0.0026\n",
            "Epoch 175/200\n",
            "44/44 [==============================] - 0s 2ms/step - loss: 0.0023 - mse: 0.0023\n",
            "Epoch 176/200\n",
            "44/44 [==============================] - 0s 3ms/step - loss: 0.0021 - mse: 0.0021\n",
            "Epoch 177/200\n",
            "44/44 [==============================] - 0s 2ms/step - loss: 0.0020 - mse: 0.0020\n",
            "Epoch 178/200\n",
            "44/44 [==============================] - 0s 2ms/step - loss: 0.0017 - mse: 0.0017\n",
            "Epoch 179/200\n",
            "44/44 [==============================] - 0s 2ms/step - loss: 0.0015 - mse: 0.0015\n",
            "Epoch 180/200\n",
            "44/44 [==============================] - 0s 3ms/step - loss: 0.0017 - mse: 0.0017\n",
            "Epoch 181/200\n",
            "44/44 [==============================] - 0s 3ms/step - loss: 0.0017 - mse: 0.0017\n",
            "Epoch 182/200\n",
            "44/44 [==============================] - 0s 3ms/step - loss: 0.0021 - mse: 0.0021\n",
            "Epoch 183/200\n",
            "44/44 [==============================] - 0s 3ms/step - loss: 0.0020 - mse: 0.0020\n",
            "Epoch 184/200\n",
            "44/44 [==============================] - 0s 3ms/step - loss: 0.0019 - mse: 0.0019\n",
            "Epoch 185/200\n",
            "44/44 [==============================] - 0s 2ms/step - loss: 0.0020 - mse: 0.0020\n",
            "Epoch 186/200\n",
            "44/44 [==============================] - 0s 3ms/step - loss: 0.0020 - mse: 0.0020\n",
            "Epoch 187/200\n",
            "44/44 [==============================] - 0s 3ms/step - loss: 0.0021 - mse: 0.0021\n",
            "Epoch 188/200\n",
            "44/44 [==============================] - 0s 2ms/step - loss: 0.0021 - mse: 0.0021\n",
            "Epoch 189/200\n",
            "44/44 [==============================] - 0s 3ms/step - loss: 0.0021 - mse: 0.0021\n",
            "Epoch 190/200\n",
            "44/44 [==============================] - 0s 2ms/step - loss: 0.0022 - mse: 0.0022\n",
            "Epoch 191/200\n",
            "44/44 [==============================] - 0s 2ms/step - loss: 0.0028 - mse: 0.0028\n",
            "Epoch 192/200\n",
            "44/44 [==============================] - 0s 2ms/step - loss: 0.0027 - mse: 0.0027\n",
            "Epoch 193/200\n",
            "44/44 [==============================] - 0s 3ms/step - loss: 0.0020 - mse: 0.0020\n",
            "Epoch 194/200\n",
            "44/44 [==============================] - 0s 2ms/step - loss: 0.0022 - mse: 0.0022\n",
            "Epoch 195/200\n",
            "44/44 [==============================] - 0s 2ms/step - loss: 0.0019 - mse: 0.0019\n",
            "Epoch 196/200\n",
            "44/44 [==============================] - 0s 2ms/step - loss: 0.0014 - mse: 0.0014\n",
            "Epoch 197/200\n",
            "44/44 [==============================] - 0s 2ms/step - loss: 0.0015 - mse: 0.0015\n",
            "Epoch 198/200\n",
            "44/44 [==============================] - 0s 2ms/step - loss: 0.0013 - mse: 0.0013\n",
            "Epoch 199/200\n",
            "44/44 [==============================] - 0s 2ms/step - loss: 0.0011 - mse: 0.0011\n",
            "Epoch 200/200\n",
            "44/44 [==============================] - 0s 2ms/step - loss: 0.0012 - mse: 0.0012    \n",
            "Model: \"sequential_3\"\n",
            "_________________________________________________________________\n",
            " Layer (type)                Output Shape              Param #   \n",
            "=================================================================\n",
            " dense_7 (Dense)             (None, 64)                1280      \n",
            "                                                                 \n",
            " dense_8 (Dense)             (None, 32)                2080      \n",
            "                                                                 \n",
            " dense_9 (Dense)             (None, 1)                 33        \n",
            "                                                                 \n",
            "=================================================================\n",
            "Total params: 3,393\n",
            "Trainable params: 3,393\n",
            "Non-trainable params: 0\n",
            "_________________________________________________________________\n"
          ]
        }
      ]
    },
    {
      "cell_type": "code",
      "source": [
        "#mse model- accuracy model didnt work due to category model issues.\n",
        "loss, mse2=model.evaluate(X_test2,y_test)\n",
        "print(\"MSE2: \",mse2)"
      ],
      "metadata": {
        "colab": {
          "base_uri": "https://localhost:8080/"
        },
        "id": "Yua-dynoH_up",
        "outputId": "31a2d87d-77b5-4599-8464-0aa0e0a6b7be"
      },
      "execution_count": null,
      "outputs": [
        {
          "output_type": "stream",
          "name": "stdout",
          "text": [
            "19/19 [==============================] - 0s 2ms/step - loss: 0.1860 - mse: 0.1860\n",
            "MSE2:  0.18599896132946014\n"
          ]
        }
      ]
    },
    {
      "cell_type": "code",
      "source": [
        "np.argmax(mse2)\n",
        "#based on the phone details it should be 3, however it is placed in cat. 0\n"
      ],
      "metadata": {
        "colab": {
          "base_uri": "https://localhost:8080/"
        },
        "id": "9Z3Nf4gbIFhD",
        "outputId": "3bebd205-853e-41d1-f382-c7d1d39bcd0c"
      },
      "execution_count": null,
      "outputs": [
        {
          "output_type": "execute_result",
          "data": {
            "text/plain": [
              "0"
            ]
          },
          "metadata": {},
          "execution_count": 36
        }
      ]
    }
  ]
}